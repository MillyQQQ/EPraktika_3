{
  "nbformat": 4,
  "nbformat_minor": 0,
  "metadata": {
    "colab": {
      "provenance": []
    },
    "kernelspec": {
      "name": "python3",
      "display_name": "Python 3"
    },
    "language_info": {
      "name": "python"
    }
  },
  "cells": [
    {
      "cell_type": "code",
      "execution_count": 33,
      "metadata": {
        "id": "8LlgeoYpvh6j"
      },
      "outputs": [],
      "source": [
        "# Импорт необходимых библиотек\n",
        "import torch\n",
        "import torch.nn as nn\n",
        "import torch.optim as optim\n",
        "import pandas as pd\n",
        "import numpy as np\n",
        "import matplotlib.pyplot as plt\n",
        "import seaborn as sns\n",
        "import time\n",
        "from sklearn.model_selection import train_test_split\n",
        "from sklearn.preprocessing import StandardScaler\n",
        "from sklearn.metrics import accuracy_score, roc_auc_score, classification_report, confusion_matrix, ConfusionMatrixDisplay"
      ]
    },
    {
      "cell_type": "code",
      "source": [
        "# from google.colab import drive\n",
        "# drive.mount('/content/drive')\n",
        "# data = pd.read_csv(\"/content/drive/My Drive/game_ds/high_diamond_ranked_10min.csv\", sep = \",\")"
      ],
      "metadata": {
        "colab": {
          "base_uri": "https://localhost:8080/"
        },
        "id": "htmE9RMM8hoq",
        "outputId": "ab265957-58b9-4835-cb28-1c51911a4489"
      },
      "execution_count": 34,
      "outputs": [
        {
          "output_type": "stream",
          "name": "stdout",
          "text": [
            "Drive already mounted at /content/drive; to attempt to forcibly remount, call drive.mount(\"/content/drive\", force_remount=True).\n"
          ]
        }
      ]
    },
    {
      "cell_type": "code",
      "source": [
        "data = pd.read_csv(\"high_diamond_ranked_10min.csv\", sep = \",\")"
      ],
      "metadata": {
        "id": "szaeUBLi8it1"
      },
      "execution_count": 35,
      "outputs": []
    },
    {
      "cell_type": "markdown",
      "source": [
        "# Анализ и предобработка"
      ],
      "metadata": {
        "id": "umYeV17g9_w6"
      }
    },
    {
      "cell_type": "code",
      "source": [
        "data.info()"
      ],
      "metadata": {
        "id": "RivTGYbzuuTW"
      },
      "execution_count": null,
      "outputs": []
    },
    {
      "cell_type": "code",
      "source": [
        "data.describe()"
      ],
      "metadata": {
        "id": "l2n4DwngsU9U",
        "collapsed": true
      },
      "execution_count": null,
      "outputs": []
    },
    {
      "cell_type": "code",
      "source": [
        "data.isnull().sum()"
      ],
      "metadata": {
        "id": "_lSWbuFmsU2a"
      },
      "execution_count": null,
      "outputs": []
    },
    {
      "cell_type": "code",
      "source": [
        "data.hist(figsize = (20,20))"
      ],
      "metadata": {
        "id": "J0OZiIv_saYh",
        "collapsed": true
      },
      "execution_count": null,
      "outputs": []
    },
    {
      "cell_type": "code",
      "source": [
        "data[\"blueWins\"].value_counts(normalize=True) * 100"
      ],
      "metadata": {
        "id": "GaT6FNdjqUn4"
      },
      "execution_count": null,
      "outputs": []
    },
    {
      "cell_type": "code",
      "source": [
        "# Корреляционный анализ\n",
        "correlation_matrix = data.corr()\n",
        "plt.figure(figsize=(25, 20))\n",
        "sns.heatmap(correlation_matrix, annot=True, fmt=\".2f\", cmap='coolwarm', cbar=True)\n",
        "plt.title('Корреляционная матрица')"
      ],
      "metadata": {
        "id": "Ad-lM1CrOyw7"
      },
      "execution_count": null,
      "outputs": []
    },
    {
      "cell_type": "code",
      "source": [
        "# Создание графика\n",
        "plt.figure(figsize=(10, 6))\n",
        "scatter = plt.scatter(\n",
        "    data['blueExperienceDiff'],\n",
        "    data['blueGoldDiff'],\n",
        "    c=data['blueWins'],\n",
        "    cmap='RdYlBu',\n",
        "    alpha=0.6\n",
        ")\n",
        "\n",
        "# Оформление\n",
        "plt.colorbar(label='blueWins (0 = Red win, 1 = Blue win)')\n",
        "plt.xlabel('Разница в опыте (blueExperienceDiff)')\n",
        "plt.ylabel('Разница в золоте (blueGoldDiff)')\n",
        "plt.title('Зависимость победы Blue от разницы опыта и золота')\n",
        "plt.grid(True)\n",
        "plt.show()"
      ],
      "metadata": {
        "id": "KA-oDhhXaK7r"
      },
      "execution_count": null,
      "outputs": []
    },
    {
      "cell_type": "code",
      "source": [
        "# Предобработка данных\n",
        "X = data.drop(columns=['gameId', 'blueWins','blueGoldDiff','blueExperienceDiff'])\n",
        "y = (data['blueWins'] == 1).astype(int)  # Победа первой команды — 1, иначе — 0"
      ],
      "metadata": {
        "id": "3V1xtShTuW5J"
      },
      "execution_count": null,
      "outputs": []
    },
    {
      "cell_type": "code",
      "source": [
        "# Деление на обучающую и тестовую выборки\n",
        "X_tset, X_test, y_tset, y_test = train_test_split(X, y, test_size=0.2, random_state=42)\n",
        "X_train, X_val, y_train, y_val = train_test_split(X_tset, y_tset, test_size=0.25, random_state=42)  # 20% в валидацию (0.25 от 0.8)\n",
        "\n",
        "# Масштабирование признаков\n",
        "scaler = StandardScaler()\n",
        "X_train = scaler.fit_transform(X_train)\n",
        "X_test = scaler.transform(X_test)\n",
        "X_val = scaler.transform(X_val)"
      ],
      "metadata": {
        "id": "fVvzFqVjuW2_"
      },
      "execution_count": null,
      "outputs": []
    },
    {
      "cell_type": "code",
      "source": [
        "# Преобразование в тензоры\n",
        "X_train_tensor = torch.tensor(X_train, dtype=torch.float32)\n",
        "y_train_tensor = torch.tensor(y_train.values, dtype=torch.float32).view(-1, 1)\n",
        "\n",
        "X_test_tensor = torch.tensor(X_test, dtype=torch.float32)\n",
        "y_test_tensor = torch.tensor(y_test.values, dtype=torch.float32).view(-1, 1)\n",
        "\n",
        "X_val_tensor = torch.tensor(X_val, dtype=torch.float32)\n",
        "y_val_tensor = torch.tensor(y_val.values, dtype=torch.float32).view(-1, 1)\n"
      ],
      "metadata": {
        "id": "BuSweqLp7b8I"
      },
      "execution_count": null,
      "outputs": []
    },
    {
      "cell_type": "markdown",
      "source": [
        "# Модели, обучение, тестирование"
      ],
      "metadata": {
        "id": "YyZwflIb-Gzv"
      }
    },
    {
      "cell_type": "code",
      "source": [
        "class Net(nn.Module):\n",
        "    def __init__(self, input_dim):\n",
        "        super().__init__()\n",
        "        self.model = nn.Sequential(\n",
        "            nn.Linear(input_dim, 16),\n",
        "            nn.ReLU(),\n",
        "            nn.Linear(16, 1),\n",
        "            nn.Sigmoid()\n",
        "        )\n",
        "    def forward(self, x):\n",
        "        return self.model(x)\n",
        "\n",
        "class Net1(nn.Module):\n",
        "    def __init__(self, input_dim):\n",
        "        super().__init__()\n",
        "        self.model = nn.Sequential(\n",
        "            nn.Linear(input_dim, 64),\n",
        "            nn.ReLU(),\n",
        "            nn.Linear(64, 1),\n",
        "            nn.Sigmoid()\n",
        "        )\n",
        "    def forward(self, x):\n",
        "        return self.model(x)\n",
        "\n",
        "class Net2(nn.Module):\n",
        "    def __init__(self, input_dim):\n",
        "        super().__init__()\n",
        "        self.model = nn.Sequential(\n",
        "            nn.Linear(input_dim, 128),\n",
        "            nn.ReLU(),\n",
        "            nn.Linear(128, 64),\n",
        "            nn.ReLU(),\n",
        "            nn.Linear(64, 1),\n",
        "            nn.Sigmoid()\n",
        "        )\n",
        "    def forward(self, x):\n",
        "        return self.model(x)\n",
        "\n",
        "class Net3(nn.Module):\n",
        "    def __init__(self, input_dim):\n",
        "        super().__init__()\n",
        "        self.model = nn.Sequential(\n",
        "            nn.Linear(input_dim, 256),\n",
        "            nn.ReLU(),\n",
        "            nn.Linear(256, 128),\n",
        "            nn.ReLU(),\n",
        "            nn.Linear(128, 64),\n",
        "            nn.ReLU(),\n",
        "            nn.Linear(64, 1),\n",
        "            nn.Sigmoid()\n",
        "        )\n",
        "    def forward(self, x):\n",
        "        return self.model(x)\n",
        "\n",
        "class ImprovedNet(nn.Module):\n",
        "    def __init__(self, input_dim):\n",
        "        super().__init__()\n",
        "        self.model = nn.Sequential(\n",
        "            nn.Linear(input_dim, 32),\n",
        "            nn.BatchNorm1d(32),\n",
        "            nn.ReLU(),\n",
        "            nn.Dropout(0.3),\n",
        "            nn.Linear(32, 1)\n",
        "        )\n",
        "\n",
        "    def forward(self, x):\n",
        "        return self.model(x)\n",
        "\n",
        "class ImprovedNetV2(nn.Module):\n",
        "    def __init__(self, input_dim):\n",
        "        super().__init__()\n",
        "        self.model = nn.Sequential(\n",
        "            nn.Linear(input_dim, 32),\n",
        "            nn.BatchNorm1d(32),\n",
        "            nn.LeakyReLU(),\n",
        "            nn.Dropout(0.3),\n",
        "            nn.Linear(32, 16),\n",
        "            nn.BatchNorm1d(16),\n",
        "            nn.LeakyReLU(),\n",
        "            nn.Dropout(0.3),\n",
        "            nn.Linear(16, 1)\n",
        "        )\n",
        "\n",
        "    def forward(self, x):\n",
        "        return self.model(x)"
      ],
      "metadata": {
        "id": "YyFLnG0euW0v"
      },
      "execution_count": null,
      "outputs": []
    },
    {
      "cell_type": "code",
      "source": [
        "def train(model_class, X_train, y_train, X_val, y_val, X_test, y_test, epochs=50, patience=3):\n",
        "    model = model_class()\n",
        "    criterion = nn.BCELoss()\n",
        "    optimizer = optim.Adam(model.parameters(), lr=0.001)\n",
        "\n",
        "    best_val_loss = float(\"inf\")\n",
        "    best_weights = None\n",
        "    trigger = 0\n",
        "    train_losses, val_losses, train_accs, val_accs = [], [], [], []\n",
        "\n",
        "    start_time = time.time()\n",
        "\n",
        "    for epoch in range(epochs):\n",
        "        model.train()\n",
        "        optimizer.zero_grad()\n",
        "        output = model(X_train)\n",
        "        loss = criterion(output, y_train)\n",
        "        loss.backward()\n",
        "        optimizer.step()\n",
        "\n",
        "        model.eval()\n",
        "        with torch.no_grad():\n",
        "            val_output = model(X_val)\n",
        "            val_loss = criterion(val_output, y_val)\n",
        "            train_acc = accuracy_score(y_train.numpy(), (output.numpy() >= 0.5).astype(int))\n",
        "            val_acc = accuracy_score(y_val.numpy(), (val_output.numpy() >= 0.5).astype(int))\n",
        "\n",
        "        train_losses.append(loss.item())\n",
        "        val_losses.append(val_loss.item())\n",
        "        train_accs.append(train_acc)\n",
        "        val_accs.append(val_acc)\n",
        "\n",
        "        if val_loss.item() < best_val_loss:\n",
        "            best_val_loss = val_loss.item()\n",
        "            best_weights = model.state_dict()\n",
        "            trigger = 0\n",
        "        else:\n",
        "            trigger += 1\n",
        "            if trigger >= patience:\n",
        "                break\n",
        "\n",
        "    end_time = time.time()\n",
        "    model.load_state_dict(best_weights)\n",
        "\n",
        "    # Оценка на тесте\n",
        "    model.eval()\n",
        "    with torch.no_grad():\n",
        "        y_pred = (model(X_test) >= 0.5).int().numpy()\n",
        "\n",
        "    return model, train_losses, val_losses, train_accs, val_accs, end_time - start_time, y_pred\n"
      ],
      "metadata": {
        "id": "t6-5jye83ILp"
      },
      "execution_count": null,
      "outputs": []
    },
    {
      "cell_type": "code",
      "source": [
        "# Обучение\n",
        "models = [Net, Net1, Net2, Net3]\n",
        "names = [\"Net\", \"Net1\", \"Net2\", \"Net3\"]\n",
        "input_dim = X_train.shape[1]\n",
        "\n",
        "# Словари для хранения метрик\n",
        "all_train_accs = {}\n",
        "all_val_accs = {}\n",
        "all_train_losses = {}\n",
        "all_val_losses = {}\n",
        "\n",
        "for name, model_class in zip(names, models):\n",
        "    model_init = lambda: model_class(input_dim)\n",
        "    model, train_losses, val_losses, train_accs, val_accs, train_time, y_pred = train(\n",
        "        model_init, X_train_tensor, y_train_tensor, X_val_tensor, y_val_tensor, X_test_tensor, y_test_tensor\n",
        "    )\n",
        "\n",
        "    # История метрик при обучении\n",
        "    all_train_accs[name] = train_accs\n",
        "    all_val_accs[name] = val_accs\n",
        "    all_train_losses[name] = train_losses\n",
        "    all_val_losses[name] = val_losses\n",
        "\n",
        "    print(f\"Архитектура: {name}\")\n",
        "    print(f\"Время обучения: {train_time:.2f} сек\")\n",
        "    print(f\"Валидационная точность: {val_accs[-1]:.4f}\")\n",
        "\n",
        "    # Предсказание вероятностей и меток\n",
        "    model.eval()\n",
        "    with torch.no_grad():\n",
        "        test_output = model(X_test_tensor)\n",
        "        y_pred = (test_output >= 0.5).int().numpy()\n",
        "        y_proba = test_output.detach().numpy()\n",
        "\n",
        "    # Расчёт ROC AUC\n",
        "    roc_auc = roc_auc_score(y_test_tensor.numpy(), y_proba)\n",
        "    print(f\"ROC AUC (тест): {roc_auc:.4f}\")\n",
        "\n",
        "    print(\"Отчёт по метрикам (тестовая выборка):\")\n",
        "    print(classification_report(y_test, y_pred, target_names=[\"Победа красных (0)\", \"Победа синих(1)\"]))\n",
        "    # Визуализация\n",
        "    plt.figure(figsize=(12, 5))\n",
        "    plt.suptitle(f\"Модель: {name}\")\n",
        "\n",
        "    plt.subplot(1, 2, 1)\n",
        "    plt.plot(train_accs, label=\"Train Acc\")\n",
        "    plt.plot(val_accs, label=\"Val Acc\")\n",
        "    plt.title(\"Accuracy\")\n",
        "    plt.xlabel(\"Epoch\")\n",
        "    plt.ylabel(\"Accuracy\")\n",
        "    plt.legend()\n",
        "\n",
        "    plt.subplot(1, 2, 2)\n",
        "    plt.plot(train_losses, label=\"Train Loss\")\n",
        "    plt.plot(val_losses, label=\"Val Loss\")\n",
        "    plt.title(\"Loss\")\n",
        "    plt.xlabel(\"Epoch\")\n",
        "    plt.ylabel(\"Loss\")\n",
        "    plt.legend()\n",
        "\n",
        "    plt.tight_layout()\n",
        "    plt.show()\n",
        "\n",
        "    cm = confusion_matrix(y_test, y_pred)\n",
        "    disp = ConfusionMatrixDisplay(confusion_matrix=cm)\n",
        "    disp.plot(cmap=\"RdYlBu\", values_format=\"d\")\n",
        "    plt.title(f\"Матрица ошибок: {name}\")\n",
        "    plt.show()\n",
        "\n"
      ],
      "metadata": {
        "id": "_9joRS4W3J_p"
      },
      "execution_count": null,
      "outputs": []
    },
    {
      "cell_type": "code",
      "source": [
        "# Общий график точности\n",
        "plt.figure(figsize=(10, 5))\n",
        "plt.title(\"Accuracy всех моделей\")\n",
        "for name, accs in all_val_accs.items():\n",
        "    plt.plot(accs, label=name)\n",
        "plt.xlabel(\"Epoch\")\n",
        "plt.ylabel(\"Accuracy\")\n",
        "plt.legend()\n",
        "plt.grid(True)\n",
        "plt.show()\n",
        "\n",
        "# Общий график потерь\n",
        "plt.figure(figsize=(10, 5))\n",
        "plt.title(\"Loss всех моделей\")\n",
        "for name, losses in all_val_losses.items():\n",
        "    plt.plot(losses, label=name)\n",
        "plt.xlabel(\"Epoch\")\n",
        "plt.ylabel(\"Loss\")\n",
        "plt.legend()\n",
        "plt.grid(True)\n",
        "plt.show()\n"
      ],
      "metadata": {
        "id": "aH22Jrap9oXh"
      },
      "execution_count": null,
      "outputs": []
    },
    {
      "cell_type": "markdown",
      "source": [
        "# Улучшение модели Net\n"
      ],
      "metadata": {
        "id": "8uFFUVgL9xix"
      }
    },
    {
      "cell_type": "code",
      "source": [
        "def train_improved(model_class, X_train, y_train, X_val, y_val, X_test, y_test, epochs=50, patience=3):\n",
        "    model = model_class()\n",
        "    criterion = nn.BCEWithLogitsLoss()\n",
        "    optimizer = optim.Adam(model.parameters(), lr=0.001, weight_decay=1e-4)\n",
        "\n",
        "    best_val_loss = float(\"inf\")\n",
        "    best_weights = None\n",
        "    trigger = 0\n",
        "    train_losses, val_losses, train_accs, val_accs = [], [], [], []\n",
        "\n",
        "    start_time = time.time()\n",
        "\n",
        "    for epoch in range(epochs):\n",
        "        model.train()\n",
        "        optimizer.zero_grad()\n",
        "        output = model(X_train)\n",
        "        loss = criterion(output, y_train)\n",
        "        loss.backward()\n",
        "        optimizer.step()\n",
        "\n",
        "        model.eval()\n",
        "        with torch.no_grad():\n",
        "            val_output = model(X_val)\n",
        "            val_loss = criterion(val_output, y_val)\n",
        "\n",
        "            train_preds = torch.sigmoid(output)\n",
        "            val_preds = torch.sigmoid(val_output)\n",
        "\n",
        "            train_acc = accuracy_score(y_train.numpy(), (train_preds.numpy() >= 0.5).astype(int))\n",
        "            val_acc = accuracy_score(y_val.numpy(), (val_preds.numpy() >= 0.5).astype(int))\n",
        "\n",
        "        train_losses.append(loss.item())\n",
        "        val_losses.append(val_loss.item())\n",
        "        train_accs.append(train_acc)\n",
        "        val_accs.append(val_acc)\n",
        "\n",
        "        if val_loss.item() < best_val_loss:\n",
        "            best_val_loss = val_loss.item()\n",
        "            best_weights = model.state_dict()\n",
        "            trigger = 0\n",
        "        else:\n",
        "            trigger += 1\n",
        "            if trigger >= patience:\n",
        "                break\n",
        "\n",
        "    end_time = time.time()\n",
        "    model.load_state_dict(best_weights)\n",
        "\n",
        "    model.eval()\n",
        "    with torch.no_grad():\n",
        "        test_output = torch.sigmoid(model(X_test))\n",
        "        y_pred = (test_output >= 0.5).int().numpy()\n",
        "        y_proba = test_output.detach().numpy()\n",
        "\n",
        "    return model, train_losses, val_losses, train_accs, val_accs, end_time - start_time, y_pred, y_proba\n"
      ],
      "metadata": {
        "id": "BG8Lphk-lOFs"
      },
      "execution_count": null,
      "outputs": []
    },
    {
      "cell_type": "code",
      "source": [
        "models = [ImprovedNet, ImprovedNetV2]\n",
        "names = [\"ImprovedNet\", \"ImprovedNetV2\"]\n",
        "\n",
        "all_train_accs = {}\n",
        "all_val_accs = {}\n",
        "all_train_losses = {}\n",
        "all_val_losses = {}\n",
        "\n",
        "for name, model_class in zip(names, models):\n",
        "    model_init = lambda: model_class(input_dim)\n",
        "    model, train_losses, val_losses, train_accs, val_accs, train_time, y_pred, y_proba = train_improved(\n",
        "        model_init, X_train_tensor, y_train_tensor, X_val_tensor, y_val_tensor, X_test_tensor, y_test_tensor\n",
        "    )\n",
        "\n",
        "    all_train_accs[name] = train_accs\n",
        "    all_val_accs[name] = val_accs\n",
        "    all_train_losses[name] = train_losses\n",
        "    all_val_losses[name] = val_losses\n",
        "\n",
        "    print(f\"Архитектура: {name}\")\n",
        "    print(f\"Время обучения: {train_time:.2f} сек\")\n",
        "    print(f\"Валидационная точность: {val_accs[-1]:.4f}\")\n",
        "\n",
        "    roc_auc = roc_auc_score(y_test_tensor.numpy(), y_proba)\n",
        "    print(f\"ROC AUC (тест): {roc_auc:.4f}\")\n",
        "\n",
        "    print(\"Отчёт по метрикам (тестовая выборка):\")\n",
        "    print(classification_report(y_test_tensor.numpy(), y_pred, target_names=[\"Победа красных (0)\", \"Победа синих(1)\"]))\n",
        "\n",
        "    plt.figure(figsize=(12, 5))\n",
        "    plt.suptitle(f\"Модель: {name}\")\n",
        "\n",
        "    plt.subplot(1, 2, 1)\n",
        "    plt.plot(train_accs, label=\"Train Acc\")\n",
        "    plt.plot(val_accs, label=\"Val Acc\")\n",
        "    plt.title(\"Accuracy\")\n",
        "    plt.xlabel(\"Epoch\")\n",
        "    plt.ylabel(\"Accuracy\")\n",
        "    plt.legend()\n",
        "\n",
        "    plt.subplot(1, 2, 2)\n",
        "    plt.plot(train_losses, label=\"Train Loss\")\n",
        "    plt.plot(val_losses, label=\"Val Loss\")\n",
        "    plt.title(\"Loss\")\n",
        "    plt.xlabel(\"Epoch\")\n",
        "    plt.ylabel(\"Loss\")\n",
        "    plt.legend()\n",
        "\n",
        "    plt.tight_layout()\n",
        "    plt.show()\n",
        "\n",
        "    cm = confusion_matrix(y_test_tensor.numpy(), y_pred)\n",
        "    disp = ConfusionMatrixDisplay(confusion_matrix=cm)\n",
        "    disp.plot(cmap=\"RdYlBu\", values_format=\"d\")\n",
        "    plt.title(f\"Матрица ошибок: {name}\")\n",
        "    plt.show()\n"
      ],
      "metadata": {
        "id": "1uhgNxNOIDWb"
      },
      "execution_count": null,
      "outputs": []
    }
  ]
}